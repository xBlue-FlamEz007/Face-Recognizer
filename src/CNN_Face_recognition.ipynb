{
 "cells": [
  {
   "cell_type": "markdown",
   "metadata": {},
   "source": [
    "# Face Recognition using CNN and LBPHFaceRecognizer"
   ]
  },
  {
   "cell_type": "markdown",
   "metadata": {},
   "source": [
    "Importing libraries"
   ]
  },
  {
   "cell_type": "code",
   "execution_count": 37,
   "metadata": {},
   "outputs": [],
   "source": [
    "import keras\n",
    "from keras.models import Sequential\n",
    "from keras.layers import Conv2D, MaxPooling2D, Dense, Flatten, Dropout, Activation, BatchNormalization\n",
    "from keras.optimizers import Adam\n",
    "from keras.callbacks import TensorBoard\n",
    "from keras.utils import to_categorical\n",
    "from keras.models import load_model\n",
    "\n",
    "import numpy as np\n",
    "import pandas as pd\n",
    "import matplotlib.pyplot as plt\n",
    "from sklearn.model_selection import train_test_split\n",
    "\n",
    "from sklearn.metrics import confusion_matrix\n",
    "from sklearn.metrics import classification_report\n",
    "from sklearn.metrics import roc_curve, auc\n",
    "from sklearn.metrics import accuracy_score\n",
    "from keras.utils import np_utils\n",
    "import itertools\n",
    "\n",
    "import os\n",
    "import cv2\n",
    "import numpy as np\n",
    "from PIL import Image\n",
    "import pickle\n",
    "from numpy import asarray"
   ]
  },
  {
   "cell_type": "markdown",
   "metadata": {},
   "source": [
    "# Making train and test datasets"
   ]
  },
  {
   "cell_type": "code",
   "execution_count": 38,
   "metadata": {},
   "outputs": [],
   "source": [
    "face_cascade = cv2.CascadeClassifier('cascades/data/haarcascade_frontalface_alt2.xml')"
   ]
  },
  {
   "cell_type": "code",
   "execution_count": 39,
   "metadata": {},
   "outputs": [],
   "source": [
    "image_dir = 'D:\\Python Projects\\Face-Recognizer\\src\\\\train_images'\n",
    "current_id = 0\n",
    "label_ids = {}\n",
    "y_train = []\n",
    "x_train = []\n",
    "i = 1\n",
    "for root, dirs, files in os.walk(image_dir):\n",
    "    for file in files:\n",
    "        if file.endswith(\"png\") or file.endswith(\"jpg\") or file.endswith(\"jpeg\") or file.endswith(\"JPG\"):\n",
    "            path = os.path.join(root, file)\n",
    "            label = os.path.basename(root).replace(\" \", \"-\").lower()\n",
    "            if not label in label_ids:\n",
    "                label_ids[label] = current_id\n",
    "                current_id += 1\n",
    "                i = 1\n",
    "            id_ = label_ids[label]\n",
    "            gray = Image.open(path).convert(\"L\") #grayscale\n",
    "            gray = np.array(gray, \"uint8\")\n",
    "            faces = face_cascade.detectMultiScale(gray)\n",
    "            for (x, y, w, h) in faces:\n",
    "                roi = gray[y : y + h, x : x + w]\n",
    "                size = (64, 64)\n",
    "                pil_image = Image.fromarray(roi.astype('uint8'), 'L')\n",
    "                final_image = pil_image.resize(size, Image.ANTIALIAS)\n",
    "                image_array = np.array(final_image, \"uint8\")\n",
    "                i = i + 1\n",
    "                x_train.append(image_array)\n",
    "                y_train.append(id_)"
   ]
  },
  {
   "cell_type": "code",
   "execution_count": 40,
   "metadata": {},
   "outputs": [
    {
     "data": {
      "text/plain": [
       "(180, 180)"
      ]
     },
     "execution_count": 40,
     "metadata": {},
     "output_type": "execute_result"
    }
   ],
   "source": [
    "len(x_train), len(y_train)"
   ]
  },
  {
   "cell_type": "code",
   "execution_count": 41,
   "metadata": {},
   "outputs": [],
   "source": [
    "image_dir = 'D:\\Python Projects\\Face-Recognizer\\src\\\\test_images'\n",
    "current_id = 0\n",
    "label_ids = {}\n",
    "y_test = []\n",
    "x_test = []\n",
    "i = 1\n",
    "for root, dirs, files in os.walk(image_dir):\n",
    "    for file in files:\n",
    "        if file.endswith(\"png\") or file.endswith(\"jpg\") or file.endswith(\"jpeg\") or file.endswith(\"JPG\"):\n",
    "            path = os.path.join(root, file)\n",
    "            label = os.path.basename(root).replace(\" \", \"-\").lower()\n",
    "            if not label in label_ids:\n",
    "                label_ids[label] = current_id\n",
    "                current_id += 1\n",
    "                i = 1\n",
    "            id_ = label_ids[label]\n",
    "            gray = Image.open(path).convert(\"L\") #grayscale\n",
    "            gray = np.array(gray, \"uint8\")\n",
    "            faces = face_cascade.detectMultiScale(gray)\n",
    "            for (x, y, w, h) in faces:\n",
    "                roi = gray[y : y + h, x : x + w]\n",
    "                size = (64, 64)\n",
    "                pil_image = Image.fromarray(roi.astype('uint8'), 'L')\n",
    "                final_image = pil_image.resize(size, Image.ANTIALIAS)\n",
    "                image_array = np.array(final_image, \"uint8\")\n",
    "                i = i + 1\n",
    "                x_test.append(image_array)\n",
    "                y_test.append(id_)"
   ]
  },
  {
   "cell_type": "code",
   "execution_count": 42,
   "metadata": {},
   "outputs": [
    {
     "data": {
      "text/plain": [
       "(60, 60)"
      ]
     },
     "execution_count": 42,
     "metadata": {},
     "output_type": "execute_result"
    }
   ],
   "source": [
    "len(x_test), len(y_test)"
   ]
  },
  {
   "cell_type": "code",
   "execution_count": 43,
   "metadata": {},
   "outputs": [
    {
     "data": {
      "text/plain": [
       "{'bharat-choithani': 0,\n",
       " 'emilia-clarke': 1,\n",
       " 'kit-harington': 2,\n",
       " 'lena-headey': 3,\n",
       " 'nikolaj-coster-waldau': 4,\n",
       " 'peter-dinklage': 5}"
      ]
     },
     "execution_count": 43,
     "metadata": {},
     "output_type": "execute_result"
    }
   ],
   "source": [
    "label_ids"
   ]
  },
  {
   "cell_type": "markdown",
   "metadata": {},
   "source": [
    "Normalization on the dataset"
   ]
  },
  {
   "cell_type": "code",
   "execution_count": 44,
   "metadata": {},
   "outputs": [],
   "source": [
    "x_train = [x/255 for x in x_train]\n",
    "x_train = np.array(x_train, dtype='float32')\n",
    "x_test = [x/255 for x in x_test]\n",
    "x_test = np.array(x_test, dtype='float32')"
   ]
  },
  {
   "cell_type": "markdown",
   "metadata": {},
   "source": [
    "# LBPHFaceRecognizer\n",
    "\n",
    "Train the model"
   ]
  },
  {
   "cell_type": "code",
   "execution_count": 45,
   "metadata": {},
   "outputs": [],
   "source": [
    "recognizer = cv2.face.LBPHFaceRecognizer_create()\n",
    "recognizer.train(x_train, np.array(y_train))"
   ]
  },
  {
   "cell_type": "markdown",
   "metadata": {},
   "source": [
    "Predictions"
   ]
  },
  {
   "cell_type": "code",
   "execution_count": 46,
   "metadata": {},
   "outputs": [],
   "source": [
    "y_pred = []\n",
    "for i in x_test:\n",
    "    id_, conf = recognizer.predict(i)\n",
    "    y_pred.append(id_)\n",
    "\n",
    "accuracy = 0\n",
    "for i in range(len(y_pred)):\n",
    "    if y_pred[i] == y_test[i]:\n",
    "        accuracy += 1"
   ]
  },
  {
   "cell_type": "code",
   "execution_count": 47,
   "metadata": {},
   "outputs": [
    {
     "name": "stdout",
     "output_type": "stream",
     "text": [
      "Accuracy =  86.66666666666667\n"
     ]
    }
   ],
   "source": [
    "print(\"Accuracy = \", (accuracy/len(y_pred)) * 100)"
   ]
  },
  {
   "cell_type": "code",
   "execution_count": 48,
   "metadata": {},
   "outputs": [],
   "source": [
    "recognizer.save(\"LBPHFaceRecognizer.yml\")"
   ]
  },
  {
   "cell_type": "markdown",
   "metadata": {},
   "source": [
    "# Keras CNN"
   ]
  },
  {
   "cell_type": "markdown",
   "metadata": {},
   "source": [
    "Pre processing for CNN model"
   ]
  },
  {
   "cell_type": "code",
   "execution_count": 49,
   "metadata": {},
   "outputs": [],
   "source": [
    "x_train = [x[..., np.newaxis] for x in x_train]\n",
    "x_train = np.array(x_train, dtype='float32')\n",
    "x_test = [x[..., np.newaxis] for x in x_test]\n",
    "x_test = np.array(x_test, dtype='float32')"
   ]
  },
  {
   "cell_type": "code",
   "execution_count": 50,
   "metadata": {},
   "outputs": [
    {
     "data": {
      "text/plain": [
       "((180, 64, 64, 1), (60, 64, 64, 1))"
      ]
     },
     "execution_count": 50,
     "metadata": {},
     "output_type": "execute_result"
    }
   ],
   "source": [
    "x_train.shape, x_test.shape"
   ]
  },
  {
   "cell_type": "markdown",
   "metadata": {},
   "source": [
    "Build CNN model:\n",
    " CNN have 3 main layer: \n",
    " * 1-Convolotional layer \n",
    " * 2- pooling layer  \n",
    " * 3- fully connected layer"
   ]
  },
  {
   "cell_type": "code",
   "execution_count": 51,
   "metadata": {},
   "outputs": [],
   "source": [
    "input_shape = (64, 64, 1)"
   ]
  },
  {
   "cell_type": "code",
   "execution_count": 52,
   "metadata": {},
   "outputs": [],
   "source": [
    "cnn_model= Sequential([\n",
    "    Conv2D(filters=16, kernel_size=7, activation='relu', input_shape=input_shape),\n",
    "    MaxPooling2D(pool_size=2),\n",
    "    Conv2D(filters=16, kernel_size=5, activation='relu', input_shape=input_shape),\n",
    "    MaxPooling2D(pool_size=2),\n",
    "    Flatten(),\n",
    "    Dense(2024, activation='relu'),\n",
    "    Dropout(0.5),\n",
    "    Dense(1024, activation='relu'),\n",
    "    Dropout(0.5),\n",
    "    Dense(512, activation='relu'),\n",
    "    Dropout(0.5),\n",
    "    Dense(len(set(y_train)), activation='softmax')  \n",
    "])\n",
    "\n",
    "cnn_model.compile(\n",
    "    loss='sparse_categorical_crossentropy',#'categorical_crossentropy',\n",
    "    optimizer=Adam(lr=0.0001),\n",
    "    metrics=['accuracy']\n",
    ")"
   ]
  },
  {
   "cell_type": "markdown",
   "metadata": {},
   "source": [
    "Show the model's parameters."
   ]
  },
  {
   "cell_type": "code",
   "execution_count": 53,
   "metadata": {},
   "outputs": [
    {
     "name": "stdout",
     "output_type": "stream",
     "text": [
      "Model: \"sequential_2\"\n",
      "_________________________________________________________________\n",
      "Layer (type)                 Output Shape              Param #   \n",
      "=================================================================\n",
      "conv2d_4 (Conv2D)            (None, 58, 58, 16)        800       \n",
      "_________________________________________________________________\n",
      "max_pooling2d_4 (MaxPooling2 (None, 29, 29, 16)        0         \n",
      "_________________________________________________________________\n",
      "conv2d_5 (Conv2D)            (None, 25, 25, 16)        6416      \n",
      "_________________________________________________________________\n",
      "max_pooling2d_5 (MaxPooling2 (None, 12, 12, 16)        0         \n",
      "_________________________________________________________________\n",
      "flatten_2 (Flatten)          (None, 2304)              0         \n",
      "_________________________________________________________________\n",
      "dense_8 (Dense)              (None, 2024)              4665320   \n",
      "_________________________________________________________________\n",
      "dropout_6 (Dropout)          (None, 2024)              0         \n",
      "_________________________________________________________________\n",
      "dense_9 (Dense)              (None, 1024)              2073600   \n",
      "_________________________________________________________________\n",
      "dropout_7 (Dropout)          (None, 1024)              0         \n",
      "_________________________________________________________________\n",
      "dense_10 (Dense)             (None, 512)               524800    \n",
      "_________________________________________________________________\n",
      "dropout_8 (Dropout)          (None, 512)               0         \n",
      "_________________________________________________________________\n",
      "dense_11 (Dense)             (None, 6)                 3078      \n",
      "=================================================================\n",
      "Total params: 7,274,014\n",
      "Trainable params: 7,274,014\n",
      "Non-trainable params: 0\n",
      "_________________________________________________________________\n"
     ]
    }
   ],
   "source": [
    "cnn_model.summary()"
   ]
  },
  {
   "cell_type": "markdown",
   "metadata": {},
   "source": [
    "Train the model\n"
   ]
  },
  {
   "cell_type": "code",
   "execution_count": 54,
   "metadata": {},
   "outputs": [
    {
     "name": "stdout",
     "output_type": "stream",
     "text": [
      "Epoch 1/200\n",
      "1/1 - 0s - loss: 1.7946 - accuracy: 0.1556\n",
      "Epoch 2/200\n",
      "1/1 - 0s - loss: 1.8060 - accuracy: 0.1556\n",
      "Epoch 3/200\n",
      "1/1 - 0s - loss: 1.7714 - accuracy: 0.2167\n",
      "Epoch 4/200\n",
      "1/1 - 0s - loss: 1.7920 - accuracy: 0.1778\n",
      "Epoch 5/200\n",
      "1/1 - 0s - loss: 1.7746 - accuracy: 0.2556\n",
      "Epoch 6/200\n",
      "1/1 - 0s - loss: 1.7806 - accuracy: 0.1500\n",
      "Epoch 7/200\n",
      "1/1 - 0s - loss: 1.7727 - accuracy: 0.1944\n",
      "Epoch 8/200\n",
      "1/1 - 0s - loss: 1.7445 - accuracy: 0.2722\n",
      "Epoch 9/200\n",
      "1/1 - 0s - loss: 1.7426 - accuracy: 0.2611\n",
      "Epoch 10/200\n",
      "1/1 - 0s - loss: 1.7405 - accuracy: 0.2722\n",
      "Epoch 11/200\n",
      "1/1 - 0s - loss: 1.7223 - accuracy: 0.3111\n",
      "Epoch 12/200\n",
      "1/1 - 0s - loss: 1.7453 - accuracy: 0.2667\n",
      "Epoch 13/200\n",
      "1/1 - 0s - loss: 1.7255 - accuracy: 0.2889\n",
      "Epoch 14/200\n",
      "1/1 - 0s - loss: 1.7111 - accuracy: 0.3056\n",
      "Epoch 15/200\n",
      "1/1 - 0s - loss: 1.7062 - accuracy: 0.2889\n",
      "Epoch 16/200\n",
      "1/1 - 0s - loss: 1.7021 - accuracy: 0.3222\n",
      "Epoch 17/200\n",
      "1/1 - 0s - loss: 1.7142 - accuracy: 0.2889\n",
      "Epoch 18/200\n",
      "1/1 - 0s - loss: 1.6902 - accuracy: 0.3167\n",
      "Epoch 19/200\n",
      "1/1 - 0s - loss: 1.6710 - accuracy: 0.3722\n",
      "Epoch 20/200\n",
      "1/1 - 0s - loss: 1.6744 - accuracy: 0.3500\n",
      "Epoch 21/200\n",
      "1/1 - 0s - loss: 1.6265 - accuracy: 0.4167\n",
      "Epoch 22/200\n",
      "1/1 - 0s - loss: 1.6820 - accuracy: 0.3222\n",
      "Epoch 23/200\n",
      "1/1 - 0s - loss: 1.6536 - accuracy: 0.3222\n",
      "Epoch 24/200\n",
      "1/1 - 0s - loss: 1.6333 - accuracy: 0.3889\n",
      "Epoch 25/200\n",
      "1/1 - 0s - loss: 1.6321 - accuracy: 0.3556\n",
      "Epoch 26/200\n",
      "1/1 - 0s - loss: 1.5965 - accuracy: 0.3500\n",
      "Epoch 27/200\n",
      "1/1 - 0s - loss: 1.6371 - accuracy: 0.3333\n",
      "Epoch 28/200\n",
      "1/1 - 0s - loss: 1.5773 - accuracy: 0.4111\n",
      "Epoch 29/200\n",
      "1/1 - 0s - loss: 1.5903 - accuracy: 0.3944\n",
      "Epoch 30/200\n",
      "1/1 - 0s - loss: 1.5649 - accuracy: 0.4056\n",
      "Epoch 31/200\n",
      "1/1 - 0s - loss: 1.5743 - accuracy: 0.3833\n",
      "Epoch 32/200\n",
      "1/1 - 0s - loss: 1.5644 - accuracy: 0.4056\n",
      "Epoch 33/200\n",
      "1/1 - 0s - loss: 1.5367 - accuracy: 0.4278\n",
      "Epoch 34/200\n",
      "1/1 - 0s - loss: 1.4999 - accuracy: 0.4556\n",
      "Epoch 35/200\n",
      "1/1 - 0s - loss: 1.4687 - accuracy: 0.4722\n",
      "Epoch 36/200\n",
      "1/1 - 0s - loss: 1.5048 - accuracy: 0.4222\n",
      "Epoch 37/200\n",
      "1/1 - 0s - loss: 1.4321 - accuracy: 0.4611\n",
      "Epoch 38/200\n",
      "1/1 - 0s - loss: 1.4197 - accuracy: 0.4722\n",
      "Epoch 39/200\n",
      "1/1 - 0s - loss: 1.4485 - accuracy: 0.4222\n",
      "Epoch 40/200\n",
      "1/1 - 0s - loss: 1.4845 - accuracy: 0.4000\n",
      "Epoch 41/200\n",
      "1/1 - 0s - loss: 1.4256 - accuracy: 0.4444\n",
      "Epoch 42/200\n",
      "1/1 - 0s - loss: 1.4237 - accuracy: 0.4167\n",
      "Epoch 43/200\n",
      "1/1 - 0s - loss: 1.3630 - accuracy: 0.5000\n",
      "Epoch 44/200\n",
      "1/1 - 0s - loss: 1.3452 - accuracy: 0.4889\n",
      "Epoch 45/200\n",
      "1/1 - 0s - loss: 1.3542 - accuracy: 0.5000\n",
      "Epoch 46/200\n",
      "1/1 - 0s - loss: 1.3145 - accuracy: 0.5222\n",
      "Epoch 47/200\n",
      "1/1 - 0s - loss: 1.3528 - accuracy: 0.5111\n",
      "Epoch 48/200\n",
      "1/1 - 0s - loss: 1.3173 - accuracy: 0.5111\n",
      "Epoch 49/200\n",
      "1/1 - 0s - loss: 1.2934 - accuracy: 0.4889\n",
      "Epoch 50/200\n",
      "1/1 - 0s - loss: 1.2828 - accuracy: 0.5444\n",
      "Epoch 51/200\n",
      "1/1 - 0s - loss: 1.1780 - accuracy: 0.5833\n",
      "Epoch 52/200\n",
      "1/1 - 0s - loss: 1.2201 - accuracy: 0.5056\n",
      "Epoch 53/200\n",
      "1/1 - 0s - loss: 1.1910 - accuracy: 0.5611\n",
      "Epoch 54/200\n",
      "1/1 - 0s - loss: 1.1765 - accuracy: 0.5222\n",
      "Epoch 55/200\n",
      "1/1 - 0s - loss: 1.1416 - accuracy: 0.5833\n",
      "Epoch 56/200\n",
      "1/1 - 0s - loss: 1.1553 - accuracy: 0.5833\n",
      "Epoch 57/200\n",
      "1/1 - 0s - loss: 1.1378 - accuracy: 0.5833\n",
      "Epoch 58/200\n",
      "1/1 - 0s - loss: 1.0653 - accuracy: 0.5944\n",
      "Epoch 59/200\n",
      "1/1 - 0s - loss: 1.0905 - accuracy: 0.6167\n",
      "Epoch 60/200\n",
      "1/1 - 0s - loss: 1.1598 - accuracy: 0.5722\n",
      "Epoch 61/200\n",
      "1/1 - 0s - loss: 1.0194 - accuracy: 0.6389\n",
      "Epoch 62/200\n",
      "1/1 - 0s - loss: 1.0347 - accuracy: 0.6222\n",
      "Epoch 63/200\n",
      "1/1 - 0s - loss: 1.1096 - accuracy: 0.6167\n",
      "Epoch 64/200\n",
      "1/1 - 0s - loss: 1.0234 - accuracy: 0.6500\n",
      "Epoch 65/200\n",
      "1/1 - 0s - loss: 0.9887 - accuracy: 0.6333\n",
      "Epoch 66/200\n",
      "1/1 - 0s - loss: 0.9508 - accuracy: 0.6722\n",
      "Epoch 67/200\n",
      "1/1 - 0s - loss: 0.9572 - accuracy: 0.6722\n",
      "Epoch 68/200\n",
      "1/1 - 0s - loss: 0.9661 - accuracy: 0.6167\n",
      "Epoch 69/200\n",
      "1/1 - 0s - loss: 0.9103 - accuracy: 0.6889\n",
      "Epoch 70/200\n",
      "1/1 - 0s - loss: 0.9231 - accuracy: 0.6444\n",
      "Epoch 71/200\n",
      "1/1 - 0s - loss: 0.9097 - accuracy: 0.6500\n",
      "Epoch 72/200\n",
      "1/1 - 0s - loss: 0.8908 - accuracy: 0.6833\n",
      "Epoch 73/200\n",
      "1/1 - 0s - loss: 0.8400 - accuracy: 0.7222\n",
      "Epoch 74/200\n",
      "1/1 - 0s - loss: 0.8438 - accuracy: 0.7222\n",
      "Epoch 75/200\n",
      "1/1 - 0s - loss: 0.8339 - accuracy: 0.6611\n",
      "Epoch 76/200\n",
      "1/1 - 0s - loss: 0.8178 - accuracy: 0.7111\n",
      "Epoch 77/200\n",
      "1/1 - 0s - loss: 0.7807 - accuracy: 0.7111\n",
      "Epoch 78/200\n",
      "1/1 - 0s - loss: 0.7906 - accuracy: 0.7167\n",
      "Epoch 79/200\n",
      "1/1 - 0s - loss: 0.7960 - accuracy: 0.7000\n",
      "Epoch 80/200\n",
      "1/1 - 0s - loss: 0.7857 - accuracy: 0.6944\n",
      "Epoch 81/200\n",
      "1/1 - 0s - loss: 0.8093 - accuracy: 0.7278\n",
      "Epoch 82/200\n",
      "1/1 - 0s - loss: 0.7514 - accuracy: 0.7500\n",
      "Epoch 83/200\n",
      "1/1 - 0s - loss: 0.7461 - accuracy: 0.7500\n",
      "Epoch 84/200\n",
      "1/1 - 0s - loss: 0.7340 - accuracy: 0.7556\n",
      "Epoch 85/200\n",
      "1/1 - 0s - loss: 0.6769 - accuracy: 0.8000\n",
      "Epoch 86/200\n",
      "1/1 - 0s - loss: 0.6758 - accuracy: 0.7944\n",
      "Epoch 87/200\n",
      "1/1 - 0s - loss: 0.7097 - accuracy: 0.7778\n",
      "Epoch 88/200\n",
      "1/1 - 0s - loss: 0.6785 - accuracy: 0.7889\n",
      "Epoch 89/200\n",
      "1/1 - 0s - loss: 0.6812 - accuracy: 0.7389\n",
      "Epoch 90/200\n",
      "1/1 - 0s - loss: 0.6583 - accuracy: 0.7833\n",
      "Epoch 91/200\n",
      "1/1 - 0s - loss: 0.6208 - accuracy: 0.7722\n",
      "Epoch 92/200\n",
      "1/1 - 0s - loss: 0.6609 - accuracy: 0.7778\n",
      "Epoch 93/200\n",
      "1/1 - 0s - loss: 0.6255 - accuracy: 0.7833\n",
      "Epoch 94/200\n",
      "1/1 - 0s - loss: 0.5844 - accuracy: 0.8000\n",
      "Epoch 95/200\n",
      "1/1 - 0s - loss: 0.6057 - accuracy: 0.8000\n",
      "Epoch 96/200\n",
      "1/1 - 0s - loss: 0.6114 - accuracy: 0.7667\n",
      "Epoch 97/200\n",
      "1/1 - 0s - loss: 0.5720 - accuracy: 0.8222\n",
      "Epoch 98/200\n",
      "1/1 - 0s - loss: 0.5735 - accuracy: 0.8278\n",
      "Epoch 99/200\n",
      "1/1 - 0s - loss: 0.5575 - accuracy: 0.7944\n",
      "Epoch 100/200\n",
      "1/1 - 0s - loss: 0.4952 - accuracy: 0.8556\n",
      "Epoch 101/200\n",
      "1/1 - 0s - loss: 0.5382 - accuracy: 0.8444\n",
      "Epoch 102/200\n",
      "1/1 - 0s - loss: 0.4726 - accuracy: 0.8556\n",
      "Epoch 103/200\n",
      "1/1 - 0s - loss: 0.4598 - accuracy: 0.8722\n",
      "Epoch 104/200\n",
      "1/1 - 0s - loss: 0.4927 - accuracy: 0.8333\n",
      "Epoch 105/200\n",
      "1/1 - 0s - loss: 0.5077 - accuracy: 0.8389\n",
      "Epoch 106/200\n",
      "1/1 - 0s - loss: 0.4732 - accuracy: 0.8444\n",
      "Epoch 107/200\n",
      "1/1 - 0s - loss: 0.5088 - accuracy: 0.8333\n",
      "Epoch 108/200\n",
      "1/1 - 0s - loss: 0.4876 - accuracy: 0.8444\n",
      "Epoch 109/200\n",
      "1/1 - 0s - loss: 0.5321 - accuracy: 0.8056\n",
      "Epoch 110/200\n",
      "1/1 - 0s - loss: 0.4339 - accuracy: 0.8667\n",
      "Epoch 111/200\n",
      "1/1 - 0s - loss: 0.4818 - accuracy: 0.8389\n",
      "Epoch 112/200\n",
      "1/1 - 0s - loss: 0.4148 - accuracy: 0.8778\n",
      "Epoch 113/200\n",
      "1/1 - 0s - loss: 0.4011 - accuracy: 0.8833\n",
      "Epoch 114/200\n",
      "1/1 - 0s - loss: 0.4293 - accuracy: 0.8722\n",
      "Epoch 115/200\n",
      "1/1 - 0s - loss: 0.4273 - accuracy: 0.8667\n",
      "Epoch 116/200\n",
      "1/1 - 0s - loss: 0.3957 - accuracy: 0.8778\n",
      "Epoch 117/200\n",
      "1/1 - 0s - loss: 0.3518 - accuracy: 0.8889\n",
      "Epoch 118/200\n",
      "1/1 - 0s - loss: 0.4008 - accuracy: 0.8778\n",
      "Epoch 119/200\n",
      "1/1 - 0s - loss: 0.4318 - accuracy: 0.8556\n",
      "Epoch 120/200\n",
      "1/1 - 0s - loss: 0.3761 - accuracy: 0.8833\n",
      "Epoch 121/200\n",
      "1/1 - 0s - loss: 0.3456 - accuracy: 0.8889\n",
      "Epoch 122/200\n",
      "1/1 - 0s - loss: 0.3779 - accuracy: 0.8833\n",
      "Epoch 123/200\n",
      "1/1 - 0s - loss: 0.3206 - accuracy: 0.9222\n",
      "Epoch 124/200\n",
      "1/1 - 0s - loss: 0.3203 - accuracy: 0.9278\n",
      "Epoch 125/200\n",
      "1/1 - 0s - loss: 0.3608 - accuracy: 0.8944\n",
      "Epoch 126/200\n",
      "1/1 - 0s - loss: 0.3514 - accuracy: 0.8889\n",
      "Epoch 127/200\n",
      "1/1 - 0s - loss: 0.3028 - accuracy: 0.9222\n",
      "Epoch 128/200\n",
      "1/1 - 0s - loss: 0.2796 - accuracy: 0.9444\n",
      "Epoch 129/200\n",
      "1/1 - 0s - loss: 0.2646 - accuracy: 0.9111\n",
      "Epoch 130/200\n",
      "1/1 - 0s - loss: 0.3128 - accuracy: 0.9000\n",
      "Epoch 131/200\n",
      "1/1 - 0s - loss: 0.2682 - accuracy: 0.9278\n",
      "Epoch 132/200\n",
      "1/1 - 0s - loss: 0.3315 - accuracy: 0.9056\n",
      "Epoch 133/200\n",
      "1/1 - 0s - loss: 0.2782 - accuracy: 0.9111\n",
      "Epoch 134/200\n",
      "1/1 - 0s - loss: 0.3125 - accuracy: 0.9056\n",
      "Epoch 135/200\n",
      "1/1 - 0s - loss: 0.2669 - accuracy: 0.9167\n",
      "Epoch 136/200\n",
      "1/1 - 0s - loss: 0.2898 - accuracy: 0.9000\n",
      "Epoch 137/200\n",
      "1/1 - 0s - loss: 0.2587 - accuracy: 0.9167\n",
      "Epoch 138/200\n",
      "1/1 - 0s - loss: 0.2569 - accuracy: 0.9222\n",
      "Epoch 139/200\n",
      "1/1 - 0s - loss: 0.2672 - accuracy: 0.9222\n",
      "Epoch 140/200\n",
      "1/1 - 0s - loss: 0.2817 - accuracy: 0.9222\n",
      "Epoch 141/200\n",
      "1/1 - 0s - loss: 0.2537 - accuracy: 0.9111\n",
      "Epoch 142/200\n",
      "1/1 - 0s - loss: 0.2513 - accuracy: 0.9056\n",
      "Epoch 143/200\n",
      "1/1 - 0s - loss: 0.2329 - accuracy: 0.9278\n",
      "Epoch 144/200\n",
      "1/1 - 0s - loss: 0.1964 - accuracy: 0.9444\n",
      "Epoch 145/200\n",
      "1/1 - 0s - loss: 0.2228 - accuracy: 0.9333\n",
      "Epoch 146/200\n",
      "1/1 - 0s - loss: 0.1950 - accuracy: 0.9500\n"
     ]
    },
    {
     "name": "stdout",
     "output_type": "stream",
     "text": [
      "Epoch 147/200\n",
      "1/1 - 0s - loss: 0.2179 - accuracy: 0.9389\n",
      "Epoch 148/200\n",
      "1/1 - 0s - loss: 0.2039 - accuracy: 0.9389\n",
      "Epoch 149/200\n",
      "1/1 - 0s - loss: 0.1988 - accuracy: 0.9389\n",
      "Epoch 150/200\n",
      "1/1 - 0s - loss: 0.2073 - accuracy: 0.9500\n",
      "Epoch 151/200\n",
      "1/1 - 0s - loss: 0.1977 - accuracy: 0.9444\n",
      "Epoch 152/200\n",
      "1/1 - 0s - loss: 0.1684 - accuracy: 0.9611\n",
      "Epoch 153/200\n",
      "1/1 - 0s - loss: 0.1837 - accuracy: 0.9444\n",
      "Epoch 154/200\n",
      "1/1 - 0s - loss: 0.1662 - accuracy: 0.9611\n",
      "Epoch 155/200\n",
      "1/1 - 0s - loss: 0.1499 - accuracy: 0.9667\n",
      "Epoch 156/200\n",
      "1/1 - 0s - loss: 0.1687 - accuracy: 0.9389\n",
      "Epoch 157/200\n",
      "1/1 - 0s - loss: 0.1561 - accuracy: 0.9667\n",
      "Epoch 158/200\n",
      "1/1 - 0s - loss: 0.1669 - accuracy: 0.9556\n",
      "Epoch 159/200\n",
      "1/1 - 0s - loss: 0.1515 - accuracy: 0.9444\n",
      "Epoch 160/200\n",
      "1/1 - 0s - loss: 0.1544 - accuracy: 0.9556\n",
      "Epoch 161/200\n",
      "1/1 - 0s - loss: 0.1455 - accuracy: 0.9833\n",
      "Epoch 162/200\n",
      "1/1 - 0s - loss: 0.1436 - accuracy: 0.9611\n",
      "Epoch 163/200\n",
      "1/1 - 0s - loss: 0.1175 - accuracy: 0.9778\n",
      "Epoch 164/200\n",
      "1/1 - 0s - loss: 0.1295 - accuracy: 0.9667\n",
      "Epoch 165/200\n",
      "1/1 - 0s - loss: 0.1299 - accuracy: 0.9778\n",
      "Epoch 166/200\n",
      "1/1 - 0s - loss: 0.1047 - accuracy: 0.9944\n",
      "Epoch 167/200\n",
      "1/1 - 0s - loss: 0.1202 - accuracy: 0.9722\n",
      "Epoch 168/200\n",
      "1/1 - 0s - loss: 0.1496 - accuracy: 0.9556\n",
      "Epoch 169/200\n",
      "1/1 - 0s - loss: 0.1033 - accuracy: 0.9889\n",
      "Epoch 170/200\n",
      "1/1 - 0s - loss: 0.1135 - accuracy: 0.9778\n",
      "Epoch 171/200\n",
      "1/1 - 0s - loss: 0.1180 - accuracy: 0.9778\n",
      "Epoch 172/200\n",
      "1/1 - 0s - loss: 0.1326 - accuracy: 0.9611\n",
      "Epoch 173/200\n",
      "1/1 - 0s - loss: 0.1277 - accuracy: 0.9556\n",
      "Epoch 174/200\n",
      "1/1 - 0s - loss: 0.0901 - accuracy: 0.9889\n",
      "Epoch 175/200\n",
      "1/1 - 0s - loss: 0.0847 - accuracy: 0.9889\n",
      "Epoch 176/200\n",
      "1/1 - 0s - loss: 0.0834 - accuracy: 0.9944\n",
      "Epoch 177/200\n",
      "1/1 - 0s - loss: 0.1137 - accuracy: 0.9833\n",
      "Epoch 178/200\n",
      "1/1 - 0s - loss: 0.0773 - accuracy: 0.9889\n",
      "Epoch 179/200\n",
      "1/1 - 0s - loss: 0.0997 - accuracy: 0.9778\n",
      "Epoch 180/200\n",
      "1/1 - 0s - loss: 0.0908 - accuracy: 0.9778\n",
      "Epoch 181/200\n",
      "1/1 - 0s - loss: 0.1278 - accuracy: 0.9556\n",
      "Epoch 182/200\n",
      "1/1 - 0s - loss: 0.0887 - accuracy: 0.9778\n",
      "Epoch 183/200\n",
      "1/1 - 0s - loss: 0.0748 - accuracy: 0.9889\n",
      "Epoch 184/200\n",
      "1/1 - 0s - loss: 0.0572 - accuracy: 1.0000\n",
      "Epoch 185/200\n",
      "1/1 - 0s - loss: 0.0795 - accuracy: 0.9833\n",
      "Epoch 186/200\n",
      "1/1 - 0s - loss: 0.0775 - accuracy: 0.9944\n",
      "Epoch 187/200\n",
      "1/1 - 0s - loss: 0.0750 - accuracy: 0.9778\n",
      "Epoch 188/200\n",
      "1/1 - 0s - loss: 0.0767 - accuracy: 0.9833\n",
      "Epoch 189/200\n",
      "1/1 - 0s - loss: 0.0760 - accuracy: 0.9833\n",
      "Epoch 190/200\n",
      "1/1 - 0s - loss: 0.0520 - accuracy: 1.0000\n",
      "Epoch 191/200\n",
      "1/1 - 0s - loss: 0.0644 - accuracy: 0.9944\n",
      "Epoch 192/200\n",
      "1/1 - 0s - loss: 0.0540 - accuracy: 1.0000\n",
      "Epoch 193/200\n",
      "1/1 - 0s - loss: 0.0520 - accuracy: 0.9944\n",
      "Epoch 194/200\n",
      "1/1 - 0s - loss: 0.0495 - accuracy: 0.9944\n",
      "Epoch 195/200\n",
      "1/1 - 0s - loss: 0.0785 - accuracy: 0.9833\n",
      "Epoch 196/200\n",
      "1/1 - 0s - loss: 0.0640 - accuracy: 0.9889\n",
      "Epoch 197/200\n",
      "1/1 - 0s - loss: 0.0482 - accuracy: 0.9778\n",
      "Epoch 198/200\n",
      "1/1 - 0s - loss: 0.0380 - accuracy: 1.0000\n",
      "Epoch 199/200\n",
      "1/1 - 0s - loss: 0.0572 - accuracy: 0.9889\n",
      "Epoch 200/200\n",
      "1/1 - 0s - loss: 0.0533 - accuracy: 0.9944\n"
     ]
    }
   ],
   "source": [
    "history=cnn_model.fit(\n",
    "    np.array(x_train), np.array(y_train), batch_size=512,\n",
    "    epochs=200, verbose=2,\n",
    ")"
   ]
  },
  {
   "cell_type": "markdown",
   "metadata": {},
   "source": [
    "Evaluate the test data\n"
   ]
  },
  {
   "cell_type": "code",
   "execution_count": 55,
   "metadata": {},
   "outputs": [
    {
     "name": "stdout",
     "output_type": "stream",
     "text": [
      "test los 0.4612\n",
      "test acc 88.3333\n"
     ]
    }
   ],
   "source": [
    "scor = cnn_model.evaluate(np.array(x_test), np.array(y_test), verbose=0)\n",
    "\n",
    "print('test los {:.4f}'.format(scor[0]))\n",
    "print('test acc {:.4f}'.format(scor[1]*100))"
   ]
  },
  {
   "cell_type": "code",
   "execution_count": 56,
   "metadata": {},
   "outputs": [],
   "source": [
    "cnn_model.save('my_model.h5')"
   ]
  },
  {
   "cell_type": "code",
   "execution_count": 57,
   "metadata": {},
   "outputs": [],
   "source": [
    "cnn_model = load_model('my_model.h5')"
   ]
  },
  {
   "cell_type": "markdown",
   "metadata": {},
   "source": [
    "# Real Time Face Detection and Recognition"
   ]
  },
  {
   "cell_type": "code",
   "execution_count": 59,
   "metadata": {},
   "outputs": [],
   "source": [
    "face_cascade = cv2.CascadeClassifier('cascades/data/haarcascade_frontalface_alt2.xml')\n",
    "labels = {v : k for k, v in label_ids.items()}\n",
    "\n",
    "cap = cv2.VideoCapture(0)\n",
    "\n",
    "while(True):\n",
    "    #Capture frame-by-frame\n",
    "    ret, frame = cap.read()\n",
    "    gray = cv2.cvtColor(frame, cv2.COLOR_BGR2GRAY)\n",
    "    faces = face_cascade.detectMultiScale(gray, scaleFactor = 1.5, minNeighbors = 5)\n",
    "    gray = np.array(gray, \"uint8\")\n",
    "    \n",
    "    for (x, y, w, h) in faces:\n",
    "        \n",
    "        roi_gray = gray[y : y + h, x : x + w]\n",
    "        roi_color = frame[y : y + h, x : x + w]\n",
    "             \n",
    "        roi_gray = Image.fromarray(roi_gray.astype('uint8'), 'L')\n",
    "        size = (64, 64)\n",
    "        roi_gray = roi_gray.resize(size, Image.ANTIALIAS)\n",
    "        roi_gray = asarray(roi_gray)\n",
    "        \n",
    "        roi_gray = np.array(roi_gray, dtype='float32')/255\n",
    "        #Recognize face using LBPHFaceRecognizer\n",
    "        #id_, conf = recognizer.predict(roi_gray)\n",
    "        #print(labels[id_])\n",
    "        #name = labels[id_]\n",
    "        \n",
    "        roi_gray = roi_gray[np.newaxis, ..., np.newaxis]\n",
    "        #Recognize face using Keras CNN\n",
    "        id_ = cnn_model.predict_classes(roi_gray)\n",
    "        \n",
    "        font = cv2.FONT_HERSHEY_SIMPLEX\n",
    "        name = labels[id_[0]]\n",
    "        \n",
    "        color = (255, 255, 255)\n",
    "        stroke = 2\n",
    "        cv2.putText(frame, name, (x, y), font, 1, color, stroke, cv2.LINE_AA)\n",
    "        \n",
    "        color = (255, 0, 0) #BGR 0-255\n",
    "        stroke = 2\n",
    "        end_cord_x = x + w\n",
    "        end_cord_y = y + h\n",
    "        cv2.rectangle(frame, (x, y), (end_cord_x, end_cord_y), color, stroke)\n",
    "        \n",
    "    #Display the resulting frame\n",
    "    cv2.imshow('frame', frame)\n",
    "    if cv2.waitKey(20) & 0xFF == ord('q'):\n",
    "        break\n",
    "\n",
    "cap.release()\n",
    "cv2.destroyAllWindows()"
   ]
  },
  {
   "cell_type": "code",
   "execution_count": null,
   "metadata": {},
   "outputs": [],
   "source": []
  }
 ],
 "metadata": {
  "kernelspec": {
   "display_name": "Python 3",
   "language": "python",
   "name": "python3"
  },
  "language_info": {
   "codemirror_mode": {
    "name": "ipython",
    "version": 3
   },
   "file_extension": ".py",
   "mimetype": "text/x-python",
   "name": "python",
   "nbconvert_exporter": "python",
   "pygments_lexer": "ipython3",
   "version": "3.7.3"
  }
 },
 "nbformat": 4,
 "nbformat_minor": 2
}
